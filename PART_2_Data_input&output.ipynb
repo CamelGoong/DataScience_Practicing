{
  "nbformat": 4,
  "nbformat_minor": 0,
  "metadata": {
    "colab": {
      "name": "PART 2. Data_input&output.ipynb",
      "provenance": [],
      "collapsed_sections": [],
      "mount_file_id": "1RGxgAb517nec9JveaA20jmmz6LvaHloz",
      "authorship_tag": "ABX9TyOa1n0BSxCQtaWL+dfR+Lw8",
      "include_colab_link": true
    },
    "kernelspec": {
      "name": "python3",
      "display_name": "Python 3"
    },
    "language_info": {
      "name": "python"
    },
    "accelerator": "GPU"
  },
  "cells": [
    {
      "cell_type": "markdown",
      "metadata": {
        "id": "view-in-github",
        "colab_type": "text"
      },
      "source": [
        "<a href=\"https://colab.research.google.com/github/CamelGoong/DataScience_Practicing/blob/main/PART_2_Data_input%26output.ipynb\" target=\"_parent\"><img src=\"https://colab.research.google.com/assets/colab-badge.svg\" alt=\"Open In Colab\"/></a>"
      ]
    },
    {
      "cell_type": "markdown",
      "source": [
        "#1. 외부파일 읽어오기"
      ],
      "metadata": {
        "id": "TnIyv5lbWJOt"
      }
    },
    {
      "cell_type": "markdown",
      "source": [
        "1-1 CSV 파일"
      ],
      "metadata": {
        "id": "leh46FdxWyUU"
      }
    },
    {
      "cell_type": "code",
      "source": [
        "import pandas as pd\n",
        "\n",
        "# header = 0 (기본옵션 적용)\n",
        "df1 = pd.read_csv(\"/content/drive/MyDrive/Colab Notebooks/파이썬 머신러닝 판다스 데이터 분석/data/part2/read_csv_sample.csv\")\n",
        "print(df1)\n",
        "\n",
        "# header = None\n",
        "df2 = pd.read_csv(\"/content/drive/MyDrive/Colab Notebooks/파이썬 머신러닝 판다스 데이터 분석/data/part2/read_csv_sample.csv\", header = None)\n",
        "print(df2)\n",
        "\n",
        "# index_col = None\n",
        "df3 = pd.read_csv(\"/content/drive/MyDrive/Colab Notebooks/파이썬 머신러닝 판다스 데이터 분석/data/part2/read_csv_sample.csv\", index_col = None)\n",
        "print(df3)\n",
        "\n",
        "# index_col = 'c0\n",
        "df4 = pd.read_csv(\"/content/drive/MyDrive/Colab Notebooks/파이썬 머신러닝 판다스 데이터 분석/data/part2/read_csv_sample.csv\", index_col = \"c0\")\n",
        "print(df4)"
      ],
      "metadata": {
        "colab": {
          "base_uri": "https://localhost:8080/"
        },
        "id": "heR2BP3Y5mNZ",
        "outputId": "a14bed54-b6ae-42e9-984f-75254abe562f"
      },
      "execution_count": 11,
      "outputs": [
        {
          "output_type": "stream",
          "name": "stdout",
          "text": [
            "   c0  c1  c2  c3\n",
            "0   0   1   4   7\n",
            "1   1   2   5   8\n",
            "2   2   3   6   9\n",
            "    0   1   2   3\n",
            "0  c0  c1  c2  c3\n",
            "1   0   1   4   7\n",
            "2   1   2   5   8\n",
            "3   2   3   6   9\n",
            "   c0  c1  c2  c3\n",
            "0   0   1   4   7\n",
            "1   1   2   5   8\n",
            "2   2   3   6   9\n",
            "    c1  c2  c3\n",
            "c0            \n",
            "0    1   4   7\n",
            "1    2   5   8\n",
            "2    3   6   9\n"
          ]
        }
      ]
    },
    {
      "cell_type": "markdown",
      "source": [
        "1-2 Excel 파일"
      ],
      "metadata": {
        "id": "UjvpMnLL-Ai6"
      }
    },
    {
      "cell_type": "code",
      "source": [
        "import pandas as pd\n",
        "\n",
        "df1 = pd.read_excel(\"/content/drive/MyDrive/Colab Notebooks/파이썬 머신러닝 판다스 데이터 분석/data/part2/남북한발전전력량.xlsx\")\n",
        "print(df1)\n",
        "\n",
        "# header = None\n",
        "df2 = pd.read_excel(\"/content/drive/MyDrive/Colab Notebooks/파이썬 머신러닝 판다스 데이터 분석/data/part2/남북한발전전력량.xlsx\", header = None)\n",
        "print(df2)"
      ],
      "metadata": {
        "colab": {
          "base_uri": "https://localhost:8080/"
        },
        "id": "35G3ZjwV-CP7",
        "outputId": "340e4104-d708-477f-aa88-eb9b74494f0b"
      },
      "execution_count": 4,
      "outputs": [
        {
          "output_type": "stream",
          "name": "stdout",
          "text": [
            "  전력량 (억㎾h) 발전 전력별  1990  1991  1992  1993  ...  2011  2012  2013  2014  2015  2016\n",
            "0        남한     합계  1077  1186  1310  1444  ...  4969  5096  5171  5220  5281  5404\n",
            "1       NaN     수력    64    51    49    60  ...    78    77    84    78    58    66\n",
            "2       NaN     화력   484   573   696   803  ...  3343  3430  3581  3427  3402  3523\n",
            "3       NaN    원자력   529   563   565   581  ...  1547  1503  1388  1564  1648  1620\n",
            "4       NaN    신재생     -     -     -     -  ...     -    86   118   151   173   195\n",
            "5        북한     합계   277   263   247   221  ...   211   215   221   216   190   239\n",
            "6       NaN     수력   156   150   142   133  ...   132   135   139   130   100   128\n",
            "7       NaN     화력   121   113   105    88  ...    79    80    82    86    90   111\n",
            "8       NaN    원자력     -     -     -     -  ...     -     -     -     -     -     -\n",
            "\n",
            "[9 rows x 29 columns]\n",
            "          0       1     2     3     4   ...    24    25    26    27    28\n",
            "0  전력량 (억㎾h)  발전 전력별  1990  1991  1992  ...  2012  2013  2014  2015  2016\n",
            "1         남한      합계  1077  1186  1310  ...  5096  5171  5220  5281  5404\n",
            "2        NaN      수력    64    51    49  ...    77    84    78    58    66\n",
            "3        NaN      화력   484   573   696  ...  3430  3581  3427  3402  3523\n",
            "4        NaN     원자력   529   563   565  ...  1503  1388  1564  1648  1620\n",
            "5        NaN     신재생     -     -     -  ...    86   118   151   173   195\n",
            "6         북한      합계   277   263   247  ...   215   221   216   190   239\n",
            "7        NaN      수력   156   150   142  ...   135   139   130   100   128\n",
            "8        NaN      화력   121   113   105  ...    80    82    86    90   111\n",
            "9        NaN     원자력     -     -     -  ...     -     -     -     -     -\n",
            "\n",
            "[10 rows x 29 columns]\n"
          ]
        }
      ]
    },
    {
      "cell_type": "markdown",
      "source": [
        "1-3 JSON 파일"
      ],
      "metadata": {
        "id": "NX1TbHW3Izy5"
      }
    },
    {
      "cell_type": "code",
      "source": [
        "df = pd.read_json(\"/content/drive/MyDrive/Colab Notebooks/파이썬 머신러닝 판다스 데이터 분석/data/part2/read_json_sample.json\")\n",
        "print(df)\n",
        "df.index"
      ],
      "metadata": {
        "colab": {
          "base_uri": "https://localhost:8080/"
        },
        "id": "1LIoPVi_IrGp",
        "outputId": "c21fc3cb-f611-42a4-a452-40f84f13cebd"
      },
      "execution_count": 8,
      "outputs": [
        {
          "output_type": "stream",
          "name": "stdout",
          "text": [
            "           name  year        developer opensource\n",
            "pandas           2008    Wes Mckinneye       True\n",
            "NumPy            2006  Travis Oliphant       True\n",
            "matplotlib       2003   John D. Hunter       True\n"
          ]
        },
        {
          "output_type": "execute_result",
          "data": {
            "text/plain": [
              "Index(['pandas', 'NumPy', 'matplotlib'], dtype='object')"
            ]
          },
          "metadata": {},
          "execution_count": 8
        }
      ]
    },
    {
      "cell_type": "markdown",
      "source": [
        "#2. 웹(web)에서 가져오기"
      ],
      "metadata": {
        "id": "3U5M9ctiLjwE"
      }
    },
    {
      "cell_type": "markdown",
      "source": [
        "2-1 HTML 웹 페이지에서 표 속성 가져오기"
      ],
      "metadata": {
        "id": "69G3DtprL5Zy"
      }
    },
    {
      "cell_type": "code",
      "source": [
        "import pandas as pd\n",
        "\n",
        "tables = pd.read_html(\"/content/drive/MyDrive/Colab Notebooks/파이썬 머신러닝 판다스 데이터 분석/data/part2/sample.html\")\n",
        "print(\"table의 갯수:\", len(tables))\n",
        "\n",
        "# tables 리스트의 원소를 iteration하면서 각각 화면 출력\n",
        "for i in range(len(tables)):\n",
        "  print(\"tables[%s]\" % i)\n",
        "  print(tables[i])\n",
        "  print('\\n')\n",
        "df = tables[1]\n",
        "df.set_index(['name'], inplace = True)\n",
        "df"
      ],
      "metadata": {
        "colab": {
          "base_uri": "https://localhost:8080/",
          "height": 448
        },
        "id": "7AtM-vPnLniU",
        "outputId": "3ef33dfc-e13b-450e-8018-c8f4fc3f892f"
      },
      "execution_count": 17,
      "outputs": [
        {
          "output_type": "stream",
          "name": "stdout",
          "text": [
            "table의 갯수: 2\n",
            "tables[0]\n",
            "   Unnamed: 0  c0  c1  c2  c3\n",
            "0           0   0   1   4   7\n",
            "1           1   1   2   5   8\n",
            "2           2   2   3   6   9\n",
            "\n",
            "\n",
            "tables[1]\n",
            "         name  year        developer  opensource\n",
            "0       NumPy  2006  Travis Oliphant        True\n",
            "1  matplotlib  2003   John D. Hunter        True\n",
            "2      pandas  2008    Wes Mckinneye        True\n",
            "\n",
            "\n"
          ]
        },
        {
          "output_type": "execute_result",
          "data": {
            "text/html": [
              "\n",
              "  <div id=\"df-14f8e800-a724-48b6-93a4-3b7a62abdb9c\">\n",
              "    <div class=\"colab-df-container\">\n",
              "      <div>\n",
              "<style scoped>\n",
              "    .dataframe tbody tr th:only-of-type {\n",
              "        vertical-align: middle;\n",
              "    }\n",
              "\n",
              "    .dataframe tbody tr th {\n",
              "        vertical-align: top;\n",
              "    }\n",
              "\n",
              "    .dataframe thead th {\n",
              "        text-align: right;\n",
              "    }\n",
              "</style>\n",
              "<table border=\"1\" class=\"dataframe\">\n",
              "  <thead>\n",
              "    <tr style=\"text-align: right;\">\n",
              "      <th></th>\n",
              "      <th>year</th>\n",
              "      <th>developer</th>\n",
              "      <th>opensource</th>\n",
              "    </tr>\n",
              "    <tr>\n",
              "      <th>name</th>\n",
              "      <th></th>\n",
              "      <th></th>\n",
              "      <th></th>\n",
              "    </tr>\n",
              "  </thead>\n",
              "  <tbody>\n",
              "    <tr>\n",
              "      <th>NumPy</th>\n",
              "      <td>2006</td>\n",
              "      <td>Travis Oliphant</td>\n",
              "      <td>True</td>\n",
              "    </tr>\n",
              "    <tr>\n",
              "      <th>matplotlib</th>\n",
              "      <td>2003</td>\n",
              "      <td>John D. Hunter</td>\n",
              "      <td>True</td>\n",
              "    </tr>\n",
              "    <tr>\n",
              "      <th>pandas</th>\n",
              "      <td>2008</td>\n",
              "      <td>Wes Mckinneye</td>\n",
              "      <td>True</td>\n",
              "    </tr>\n",
              "  </tbody>\n",
              "</table>\n",
              "</div>\n",
              "      <button class=\"colab-df-convert\" onclick=\"convertToInteractive('df-14f8e800-a724-48b6-93a4-3b7a62abdb9c')\"\n",
              "              title=\"Convert this dataframe to an interactive table.\"\n",
              "              style=\"display:none;\">\n",
              "        \n",
              "  <svg xmlns=\"http://www.w3.org/2000/svg\" height=\"24px\"viewBox=\"0 0 24 24\"\n",
              "       width=\"24px\">\n",
              "    <path d=\"M0 0h24v24H0V0z\" fill=\"none\"/>\n",
              "    <path d=\"M18.56 5.44l.94 2.06.94-2.06 2.06-.94-2.06-.94-.94-2.06-.94 2.06-2.06.94zm-11 1L8.5 8.5l.94-2.06 2.06-.94-2.06-.94L8.5 2.5l-.94 2.06-2.06.94zm10 10l.94 2.06.94-2.06 2.06-.94-2.06-.94-.94-2.06-.94 2.06-2.06.94z\"/><path d=\"M17.41 7.96l-1.37-1.37c-.4-.4-.92-.59-1.43-.59-.52 0-1.04.2-1.43.59L10.3 9.45l-7.72 7.72c-.78.78-.78 2.05 0 2.83L4 21.41c.39.39.9.59 1.41.59.51 0 1.02-.2 1.41-.59l7.78-7.78 2.81-2.81c.8-.78.8-2.07 0-2.86zM5.41 20L4 18.59l7.72-7.72 1.47 1.35L5.41 20z\"/>\n",
              "  </svg>\n",
              "      </button>\n",
              "      \n",
              "  <style>\n",
              "    .colab-df-container {\n",
              "      display:flex;\n",
              "      flex-wrap:wrap;\n",
              "      gap: 12px;\n",
              "    }\n",
              "\n",
              "    .colab-df-convert {\n",
              "      background-color: #E8F0FE;\n",
              "      border: none;\n",
              "      border-radius: 50%;\n",
              "      cursor: pointer;\n",
              "      display: none;\n",
              "      fill: #1967D2;\n",
              "      height: 32px;\n",
              "      padding: 0 0 0 0;\n",
              "      width: 32px;\n",
              "    }\n",
              "\n",
              "    .colab-df-convert:hover {\n",
              "      background-color: #E2EBFA;\n",
              "      box-shadow: 0px 1px 2px rgba(60, 64, 67, 0.3), 0px 1px 3px 1px rgba(60, 64, 67, 0.15);\n",
              "      fill: #174EA6;\n",
              "    }\n",
              "\n",
              "    [theme=dark] .colab-df-convert {\n",
              "      background-color: #3B4455;\n",
              "      fill: #D2E3FC;\n",
              "    }\n",
              "\n",
              "    [theme=dark] .colab-df-convert:hover {\n",
              "      background-color: #434B5C;\n",
              "      box-shadow: 0px 1px 3px 1px rgba(0, 0, 0, 0.15);\n",
              "      filter: drop-shadow(0px 1px 2px rgba(0, 0, 0, 0.3));\n",
              "      fill: #FFFFFF;\n",
              "    }\n",
              "  </style>\n",
              "\n",
              "      <script>\n",
              "        const buttonEl =\n",
              "          document.querySelector('#df-14f8e800-a724-48b6-93a4-3b7a62abdb9c button.colab-df-convert');\n",
              "        buttonEl.style.display =\n",
              "          google.colab.kernel.accessAllowed ? 'block' : 'none';\n",
              "\n",
              "        async function convertToInteractive(key) {\n",
              "          const element = document.querySelector('#df-14f8e800-a724-48b6-93a4-3b7a62abdb9c');\n",
              "          const dataTable =\n",
              "            await google.colab.kernel.invokeFunction('convertToInteractive',\n",
              "                                                     [key], {});\n",
              "          if (!dataTable) return;\n",
              "\n",
              "          const docLinkHtml = 'Like what you see? Visit the ' +\n",
              "            '<a target=\"_blank\" href=https://colab.research.google.com/notebooks/data_table.ipynb>data table notebook</a>'\n",
              "            + ' to learn more about interactive tables.';\n",
              "          element.innerHTML = '';\n",
              "          dataTable['output_type'] = 'display_data';\n",
              "          await google.colab.output.renderOutput(dataTable, element);\n",
              "          const docLink = document.createElement('div');\n",
              "          docLink.innerHTML = docLinkHtml;\n",
              "          element.appendChild(docLink);\n",
              "        }\n",
              "      </script>\n",
              "    </div>\n",
              "  </div>\n",
              "  "
            ],
            "text/plain": [
              "            year        developer  opensource\n",
              "name                                         \n",
              "NumPy       2006  Travis Oliphant        True\n",
              "matplotlib  2003   John D. Hunter        True\n",
              "pandas      2008    Wes Mckinneye        True"
            ]
          },
          "metadata": {},
          "execution_count": 17
        }
      ]
    },
    {
      "cell_type": "markdown",
      "source": [
        "2-2 웹 스크래핑"
      ],
      "metadata": {
        "id": "E_m4rMQkOfHO"
      }
    },
    {
      "cell_type": "code",
      "source": [
        "# 코드가 정상적으로 작성됬음에도 실행이 안됨. ㅠㅠ\n",
        "\n",
        "# 라이브러리 불러오기\n",
        "from bs4 import BeautifulSoup\n",
        "import requests\n",
        "import re\n",
        "import pandas as pd\n",
        "\n",
        "# 위키피디아 미국 ETF 웹 페이지에서 필요한 정보를 스크래핑하여 딕셔너리 형태로 변수 etfs에 저장\n",
        "url = \"https://en.wikipedia.org/wiki/List_of_American_exchange-traded_funds\"\n",
        "resp = requests.get(url)\n",
        "soup = BeautifulSoup(resp.text, 'lxml')   \n",
        "rows = soup.select('div > ul > li')\n",
        "    \n",
        "etfs = {}\n",
        "for row in rows:\n",
        "    \n",
        "    try:\n",
        "        etf_name = re.findall('^(.*) \\(NYSE', row.text)\n",
        "        etf_market = re.findall('\\((.*)\\|', row.text)\n",
        "        etf_ticker = re.findall('NYSE Arca\\|(.*)\\)', row.text)\n",
        "        \n",
        "        if (len(etf_ticker) > 0) & (len(etf_market) > 0) & (len(etf_name) > 0):\n",
        "            etfs[etf_ticker[0]] = [etf_market[0], etf_name[0]]\n",
        "\n",
        "    except AttributeError as err:\n",
        "        pass    \n",
        "\n",
        "# etfs 딕셔너리 출력\n",
        "print(etfs)\n",
        "print('\\n')\n",
        "\n",
        "# etfs 딕셔너리를 데이터프레임으로 변환\n",
        "df = pd.DataFrame(etfs)\n",
        "print(df)"
      ],
      "metadata": {
        "colab": {
          "base_uri": "https://localhost:8080/"
        },
        "id": "8L2SfxakOgUR",
        "outputId": "87c951a0-7fa8-4fad-d09c-8a06c1964729"
      },
      "execution_count": 25,
      "outputs": [
        {
          "output_type": "stream",
          "name": "stdout",
          "text": [
            "{}\n",
            "\n",
            "\n",
            "Empty DataFrame\n",
            "Columns: []\n",
            "Index: []\n"
          ]
        }
      ]
    },
    {
      "cell_type": "markdown",
      "source": [
        "# 3. API 활용하여 데이터 수집하기 : **구글 지오코딩(Geocoding) API** 활용"
      ],
      "metadata": {
        "id": "fpc5v82RTiHr"
      }
    },
    {
      "cell_type": "code",
      "source": [
        "# API 키를 발급받는 과정이 필요해서 일단 생략"
      ],
      "metadata": {
        "id": "tiPw1TuRTfOH"
      },
      "execution_count": 27,
      "outputs": []
    },
    {
      "cell_type": "markdown",
      "source": [
        "# 4. 데이터 저장하기"
      ],
      "metadata": {
        "id": "20LAkPZnUza_"
      }
    },
    {
      "cell_type": "markdown",
      "source": [
        "4-1 csv 파일로 저장"
      ],
      "metadata": {
        "id": "KMNuBwB9VC8D"
      }
    },
    {
      "cell_type": "code",
      "source": [
        "import pandas as pd\n",
        "\n",
        "data = {'name':['Jerry', 'Riah', 'Paul'],\n",
        "        'algol':['A', 'A+', 'B'],\n",
        "        'basic':[\"C\", \"B\", \"B+\"],\n",
        "        'C++':[\"B+\", \"C\", \"C+\"],\n",
        "        }\n",
        "df = pd.DataFrame(data)\n",
        "df.set_index('name', inplace = True)\n",
        "print(df)\n",
        "df.to_csv(\"./df_sample.csv\")"
      ],
      "metadata": {
        "colab": {
          "base_uri": "https://localhost:8080/"
        },
        "id": "qy5KyZbUUIfP",
        "outputId": "21da7a1e-f258-4530-8ac4-ee84d4f328f9"
      },
      "execution_count": 31,
      "outputs": [
        {
          "output_type": "stream",
          "name": "stdout",
          "text": [
            "      algol basic C++\n",
            "name                 \n",
            "Jerry     A     C  B+\n",
            "Riah     A+     B   C\n",
            "Paul      B    B+  C+\n"
          ]
        }
      ]
    },
    {
      "cell_type": "markdown",
      "source": [
        "4-2 JSON 파일로 저장"
      ],
      "metadata": {
        "id": "r5lyI7g6V_pP"
      }
    },
    {
      "cell_type": "code",
      "source": [
        "# 위의 동일한 df를 JSON 파일로 저장\n",
        "df.to_json(\"./df_sample.json\")"
      ],
      "metadata": {
        "id": "a6Rqry33VjmN"
      },
      "execution_count": 32,
      "outputs": []
    },
    {
      "cell_type": "markdown",
      "source": [
        "4-3 Excel 파일로 저장"
      ],
      "metadata": {
        "id": "X8owmXuEWhS6"
      }
    },
    {
      "cell_type": "code",
      "source": [
        "df.to_excel(\"./df_sample.xlsx\")"
      ],
      "metadata": {
        "id": "0EIK1HkUWjIe"
      },
      "execution_count": 34,
      "outputs": []
    },
    {
      "cell_type": "markdown",
      "source": [
        "4-4 여러 개의 데이터프레임을 하나의 excel 파일로 저장"
      ],
      "metadata": {
        "id": "3vatihj2WxPs"
      }
    },
    {
      "cell_type": "code",
      "source": [
        "data1 = {'name':['Jerry', 'Riah', 'Paul'],\n",
        "        'algol':['A', 'A+', 'B'],\n",
        "        'basic':[\"C\", \"B\", \"B+\"],\n",
        "        'C++':[\"B+\", \"C\", \"C+\"],\n",
        "        }\n",
        "data2 = {'C0':[1,2,3],\n",
        "         'C1':[4,5,6],\n",
        "         'C2':[7,8,9],\n",
        "         'C3':[10,11,12],\n",
        "         'C4':[13,14,15]}\n",
        "\n",
        "df1 = pd.DataFrame(data1)\n",
        "df1.set_index('name', inplace = True)\n",
        "print(df1)\n",
        "print(\"\\n\")\n",
        "\n",
        "df2 = pd.DataFrame(data2)\n",
        "df2.set_index('C0', inplace = True)\n",
        "print(df2)\n",
        "\n",
        "# df1 -> sheet1 df2 -> sheet2에 저장\n",
        "writer = pd.ExcelWriter(\"./df_excelwriter.xlsx\") # 객체 생성 및 파일 저장경로 지정\n",
        "df1.to_excel(writer, sheet_name = \"sheet1\") # 이렇게 .to_excel에 Writer라는 위에서 생성한 객체를 같이 전달해 줘야 함\n",
        "df2.to_excel(writer, sheet_name = \"sheet2\")\n",
        "writer.save()"
      ],
      "metadata": {
        "colab": {
          "base_uri": "https://localhost:8080/"
        },
        "id": "SIJdL4muWpo_",
        "outputId": "dca9e5a8-acd3-441c-8077-e4cd2cc5cf15"
      },
      "execution_count": 39,
      "outputs": [
        {
          "output_type": "stream",
          "name": "stdout",
          "text": [
            "      algol basic C++\n",
            "name                 \n",
            "Jerry     A     C  B+\n",
            "Riah     A+     B   C\n",
            "Paul      B    B+  C+\n",
            "\n",
            "\n",
            "    C1  C2  C3  C4\n",
            "C0                \n",
            "1    4   7  10  13\n",
            "2    5   8  11  14\n",
            "3    6   9  12  15\n"
          ]
        }
      ]
    },
    {
      "cell_type": "code",
      "source": [
        ""
      ],
      "metadata": {
        "id": "OvSJQRhyX2es"
      },
      "execution_count": null,
      "outputs": []
    }
  ]
}